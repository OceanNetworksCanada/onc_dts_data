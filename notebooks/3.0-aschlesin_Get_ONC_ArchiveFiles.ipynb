{
 "cells": [
  {
   "cell_type": "markdown",
   "id": "a33b5d57",
   "metadata": {},
   "source": [
    "### Script to query the ONC database for archived JSON files using the client library"
   ]
  },
  {
   "cell_type": "code",
   "execution_count": null,
   "id": "7d421344",
   "metadata": {},
   "outputs": [],
   "source": [
    "from onc import ONC # clas to install via python -m pip install onc (https://oceannetworkscanada.github.io/api-python-client/)\n",
    "from dotenv import load_dotenv # need to install python-dotenv package\n",
    "import os\n",
    "import json\n",
    "from datetime import datetime\n",
    "\n",
    "import logging\n",
    "logging.basicConfig(level=logging.INFO)\n",
    "\n",
    "from pathlib import Path\n",
    "\n",
    "data_dir = Path(\"./data/archive\")\n",
    "data_dir.mkdir(parents=True, exist_ok=True)\n"
   ]
  },
  {
   "cell_type": "code",
   "execution_count": null,
   "id": "80bb8142",
   "metadata": {},
   "outputs": [],
   "source": [
    "# Never hard-code sensitive information like API tokens in your code.\n",
    "# Instead, use environment variables to keep them secure.\n",
    "# Make sure to create a .env file in the same directory as this script with the following content:\n",
    "# ONC_API_TOKEN=your_api_token_here\n",
    "\n",
    "load_dotenv()  # Load environment variables from .env file\n",
    "onc_api_token = os.getenv(\"ONC_API_TOKEN\")  # Load the ONC API token from the .env file\n",
    "\n",
    "# Initiate ONC class\n",
    "onc = ONC(onc_api_token)"
   ]
  },
  {
   "cell_type": "code",
   "execution_count": null,
   "id": "a9a0cebc",
   "metadata": {},
   "outputs": [],
   "source": [
    "def fetch_onc_archived_data(device_code, dateFrom, dateTo, fileExtension, onc_api_token):\n",
    "    \"\"\"\n",
    "    Fetches ONC archived files using the python client library class.\n",
    "\n",
    "    Args:\n",
    "        device_code (str): The device code to query.\n",
    "        dateFrom (str): Start Date of the data to query (format: YYYY-MM-DDTHH:MM:SS.3fZ)\n",
    "        dateTo (str): End Date of the data to query (format: YYYY-MM-DDTHH:MM:SS.3fZ)\n",
    "        fileExtension (str): FileFormat to download.\n",
    "        onc_api_token (str): ONC API token for authentication.\n",
    "\n",
    "    Returns:\n",
    "        JSON files will be written into a directory called \"output\".\n",
    "    \"\"\"\n",
    " \n",
    "    params = {\n",
    "        \"deviceCode\": device_code,\n",
    "        \"dateFrom\": dateFrom,\n",
    "        \"dateTo\": dateTo,\n",
    "        \"fileExtension\": fileExtension,\n",
    "        \"token\": onc_api_token\n",
    "    }\n",
    "\n",
    "    return(onc.downloadDirectArchivefile(params))\n",
    "\n",
    "    "
   ]
  },
  {
   "cell_type": "markdown",
   "id": "c8facd28",
   "metadata": {},
   "source": [
    "#### Example:"
   ]
  },
  {
   "cell_type": "code",
   "execution_count": null,
   "id": "200e7064",
   "metadata": {},
   "outputs": [],
   "source": [
    "device_code = 'SILIXADTSXT19083' # deviceCode for the DTS\n",
    "dateFrom = '2025-07-30T00:00:00.000Z'\n",
    "dateTo = '2025-07-31T10:00:00.000Z'\n",
    "fileExtension='JSON'\n",
    "returnOptions = 'all'\n",
    "\n",
    "data_dir = 'data/archive'\n",
    "\n",
    "fetch_onc_archived_data(device_code, dateFrom, dateTo,fileExtension,returnOptions,\n",
    "                   onc_api_token, data_dir, logging)\n"
   ]
  }
 ],
 "metadata": {
  "kernelspec": {
   "display_name": "obspy2",
   "language": "python",
   "name": "python3"
  },
  "language_info": {
   "codemirror_mode": {
    "name": "ipython",
    "version": 3
   },
   "file_extension": ".py",
   "mimetype": "text/x-python",
   "name": "python",
   "nbconvert_exporter": "python",
   "pygments_lexer": "ipython3",
   "version": "3.11.6"
  }
 },
 "nbformat": 4,
 "nbformat_minor": 5
}
