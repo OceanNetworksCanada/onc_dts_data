{
 "cells": [
  {
   "cell_type": "code",
   "execution_count": 29,
   "id": "42f04c73",
   "metadata": {},
   "outputs": [],
   "source": [
    "import requests # need to install requests package\n",
    "from dotenv import load_dotenv # need to install python-dotenv package\n",
    "import os\n",
    "import json\n",
    "from datetime import datetime\n",
    "\n",
    "import logging\n",
    "logging.basicConfig(level=logging.INFO)\n",
    "\n",
    "from pathlib import Path\n",
    "\n",
    "data_dir = Path(\"./data/realtime\")\n",
    "data_dir.mkdir(parents=True, exist_ok=True)\n"
   ]
  },
  {
   "cell_type": "code",
   "execution_count": 2,
   "id": "52dd3e18",
   "metadata": {},
   "outputs": [],
   "source": [
    "# Never hard-code sensitive information like API tokens in your code.\n",
    "# Instead, use environment variables to keep them secure.\n",
    "# Make sure to create a .env file in the same directory as this script with the following content:\n",
    "# ONC_API_TOKEN=your_api_token_here\n",
    "\n",
    "load_dotenv()  # Load environment variables from .env file\n",
    "onc_api_token = os.getenv(\"ONC_API_TOKEN\")  # Load the ONC API token from the .env file"
   ]
  },
  {
   "cell_type": "code",
   "execution_count": 57,
   "id": "888d9f06",
   "metadata": {},
   "outputs": [],
   "source": [
    "def save_json_data(json_data, device_code, data_dir, logging):\n",
    "    \"\"\"\n",
    "    Saves the provided JSON data to a file in the specified directory.\n",
    "\n",
    "    The filename is generated using the device code, measurement start time, and channel number.\n",
    "    The JSON data is written with indentation for readability.\n",
    "\n",
    "    Args:\n",
    "        json_data (dict): The JSON data to save. Must contain keys for 'Resp' -> 'processed data' -> 'forward channel' and 'measurement start time'.\n",
    "        device_code (str): The device code to include in the filename.\n",
    "        data_dir (Path): The directory where the file will be saved.\n",
    "        logging (logging.Logger): Logger for error and info messages.\n",
    "\n",
    "    Raises:\n",
    "        KeyError: If required keys are missing in json_data.\n",
    "        TypeError: If json_data is not a dictionary.\n",
    "        AttributeError: If start_time is not a string.\n",
    "        Exception: If file writing fails.\n",
    "    \"\"\"\n",
    "    try:\n",
    "        chan = json_data[\"Resp\"][\"processed data\"][\"forward channel\"] + 1\n",
    "        start_time = json_data[\"Resp\"][\"processed data\"][\"measurement start time\"]\n",
    "        start_time = start_time.replace(\"-\", \"\").replace(\":\", \"\")[:-5] + 'Z'\n",
    "        filename = f\"{device_code}_{start_time}_chan{chan}.json\"\n",
    "    except (KeyError, TypeError, AttributeError) as e:\n",
    "        logging.error(f\"Error extracting fields from json_data: {e}\")\n",
    "        raise\n",
    "\n",
    "    try:\n",
    "        with open(data_dir / filename, 'w') as f:\n",
    "            json.dump(json_data, f, indent=4)\n",
    "        logging.info(f\"Generated filename: {filename}\")\n",
    "    except Exception as e:\n",
    "        logging.error(f\"Failed to write file {filename}: {e}\")"
   ]
  },
  {
   "cell_type": "code",
   "execution_count": null,
   "id": "4462ad77",
   "metadata": {},
   "outputs": [],
   "source": [
    "\n",
    "def process_and_save_json_lines(data, device_code, data_dir, logging):\n",
    "    \"\"\"\n",
    "    Processes raw data lines from the ONC API response, extracts JSON data, and saves it to disk.\n",
    "\n",
    "    Only lines starting with '{\"Cmd\":\"getData\",' are processed. Each valid JSON line is saved using save_json_data.\n",
    "\n",
    "    Args:\n",
    "        data (dict): The API response containing raw data lines under data['data'].\n",
    "        device_code (str): Device code for filename generation.\n",
    "        data_dir (Path): Directory to save JSON files.\n",
    "        logging (logging.Logger): Logger for error/info messages.\n",
    "\n",
    "    Returns:\n",
    "        int: Number of JSON files successfully saved.\n",
    "\n",
    "    Raises:\n",
    "        Exception: If required keys are missing or JSON decoding fails.\n",
    "    \"\"\"\n",
    "    saved_count = 0\n",
    "    try:\n",
    "        for raw_line in data.get('data', []):\n",
    "            raw_data = raw_line.get('rawData', '')\n",
    "            if raw_data.startswith('{\"Cmd\":\"getData\",'):\n",
    "                try:\n",
    "                    json_data = json.loads(raw_data)\n",
    "                    save_json_data(json_data, device_code, data_dir, logging)\n",
    "                    saved_count += 1\n",
    "                except json.JSONDecodeError as e:\n",
    "                    logging.error(f\"JSON decode error: {e} in line: {raw_data}\")\n",
    "                except Exception as e:\n",
    "                    logging.error(f\"Error saving JSON data: {e}\")\n",
    "    except Exception as e:\n",
    "        logging.error(f\"Error processing raw lines: {e}\")\n",
    "        raise\n",
    "    return saved_count\n"
   ]
  },
  {
   "cell_type": "markdown",
   "id": "718c9f69",
   "metadata": {},
   "source": [
    "### Get real-time data from a specific device (instrument)"
   ]
  },
  {
   "cell_type": "code",
   "execution_count": null,
   "id": "27dad5ca",
   "metadata": {},
   "outputs": [],
   "source": [
    "def fetch_onc_realtime_data(device_code, row_limit, size_limit, output_format, get_latest, onc_api_token, data_dir, logging):\n",
    "    \"\"\"\n",
    "    Fetches ONC Realtime Data - raw readings for a given device and saves the response as JSON.\n",
    "\n",
    "    Args:\n",
    "        device_code (str): The device code to query.\n",
    "        row_limit (int): Maximum number of rows to retrieve.\n",
    "        size_limit (int): Maximum size of data to retrieve.\n",
    "        output_format (str): Format of the output data.\n",
    "        get_latest (str): Whether to get the latest data (\"true\"/\"false\").\n",
    "        onc_api_token (str): ONC API token for authentication.\n",
    "        data_dir (Path): Directory to save data.\n",
    "        logging (logging.Logger): Logger for info/error messages.\n",
    "\n",
    "    Returns:\n",
    "        dict: The JSON response from the API if successful, None otherwise.\n",
    "    \"\"\"\n",
    "    url = \"https://data.oceannetworks.ca/api/rawdata/device\"\n",
    "    params = {\n",
    "        \"deviceCode\": device_code,\n",
    "        \"rowLimit\": row_limit,\n",
    "        \"sizeLimit\": size_limit,\n",
    "        \"outputFormat\": output_format,\n",
    "        \"getLatest\": get_latest,\n",
    "        \"token\": onc_api_token\n",
    "    }\n",
    "\n",
    "    response = requests.get(url, params=params)\n",
    "    if response.status_code == 200:\n",
    "        data = response.json()\n",
    "        # Optionally save the response to disk\n",
    "        try:\n",
    "            with open(data_dir+'/'+f\"{device_code}_rawdata.json\", \"w\") as f:\n",
    "                json.dump(data, f, indent=4)\n",
    "            logging.info(f\"Saved raw data to {device_code}_rawdata.json\")\n",
    "        except Exception as e:\n",
    "            logging.error(f\"Failed to save raw data: {e}\")\n",
    "        return data\n",
    "    else:\n",
    "        logging.error(f\"Error: {response.status_code} - {response.text}\")\n",
    "        return None\n"
   ]
  },
  {
   "cell_type": "markdown",
   "id": "3754c63b",
   "metadata": {},
   "source": [
    "#### Example:"
   ]
  },
  {
   "cell_type": "code",
   "execution_count": 60,
   "id": "62b0f31c",
   "metadata": {},
   "outputs": [
    {
     "name": "stderr",
     "output_type": "stream",
     "text": [
      "INFO:root:Saved raw data to SILIXADTSXT19083_rawdata.json\n"
     ]
    }
   ],
   "source": [
    "device_code = 'SILIXADTSXT19083' # deviceCode for the DTS\n",
    "row_limit= 20\n",
    "size_limit =  20\n",
    "output_format  = \"Object\"\n",
    "get_latest  = \"false\"\n",
    "data_dir = 'data/realtime'\n",
    "\n",
    "json_data = fetch_onc_realtime_data(device_code, row_limit, size_limit, output_format, \n",
    "                        get_latest, onc_api_token, data_dir, logging)\n"
   ]
  },
  {
   "cell_type": "markdown",
   "id": "bb8aabbe",
   "metadata": {},
   "source": [
    "\n",
    "\n",
    "### Look here for more information: https://data.oceannetworks.ca/OpenAPI#get-/rawdata/device\n",
    "\n"
   ]
  },
  {
   "cell_type": "markdown",
   "id": "7de6c9c3",
   "metadata": {},
   "source": [
    "### Fetch **archived** raw data"
   ]
  },
  {
   "cell_type": "code",
   "execution_count": 54,
   "id": "71f19b46",
   "metadata": {},
   "outputs": [],
   "source": [
    "def fetch_onc_raw_data(device_code, dateFrom, dateTo, output_format, onc_api_token, data_dir, logging):\n",
    "    \"\"\"\n",
    "    Fetches ONC Realtime Data - raw readings for a given device and saves the response as JSON.\n",
    "\n",
    "    Args:\n",
    "        device_code (str): The device code to query.\n",
    "        dateFrom (str): Start Date of the data to query (format: YYYY-MM-DDTHH:MM:SS.3fZ)\n",
    "        dateTo (str): End Date of the data to query (format: YYYY-MM-DDTHH:MM:SS.3fZ)\n",
    "        output_format (str): Format of the output data.\n",
    "        onc_api_token (str): ONC API token for authentication.\n",
    "        data_dir (Path): Directory to save data.\n",
    "        logging (logging.Logger): Logger for info/error messages.\n",
    "\n",
    "    Returns:\n",
    "        dict: The JSON response from the API if successful, None otherwise.\n",
    "    \"\"\"\n",
    "    url = \"https://data.oceannetworks.ca/api/rawdata/device\"\n",
    "    params = {\n",
    "        \"deviceCode\": device_code,\n",
    "        \"outputFormat\": output_format,\n",
    "        \"dateFrom\": dateFrom,\n",
    "        \"dateTo\": dateTo,\n",
    "        \"token\": onc_api_token\n",
    "    }\n",
    "\n",
    "    response = requests.get(url, params=params)\n",
    "    \n",
    "    if response.status_code == 200:\n",
    "        data = response.json()\n",
    "        date = (dateFrom.split('T')[0])\n",
    "        # Optionally save the response to disk\n",
    "        try:\n",
    "            outFile = (data_dir+'/'+device_code+'_'+date+'_rawdata.json')\n",
    "\n",
    "            with open(outFile, \"w\") as f:\n",
    "                json.dump(data, f, indent=4)\n",
    "            logging.info(f\"Saved raw data to {outFile}\")\n",
    "        except Exception as e:\n",
    "            logging.error(f\"Failed to save raw data: {e}\")\n",
    "        return data\n",
    "    else:\n",
    "        logging.error(f\"Error: {response.status_code} - {response.text}\")\n",
    "        return None\n"
   ]
  },
  {
   "cell_type": "markdown",
   "id": "1223f2ee",
   "metadata": {},
   "source": [
    "#### Example:"
   ]
  },
  {
   "cell_type": "code",
   "execution_count": null,
   "id": "93740b53",
   "metadata": {},
   "outputs": [
    {
     "name": "stderr",
     "output_type": "stream",
     "text": [
      "INFO:root:Saved raw data to data/realtime/SILIXADTSXT19083_2025-07-30_rawdata.json\n"
     ]
    }
   ],
   "source": [
    "device_code = 'SILIXADTSXT19083' # deviceCode for the DTS\n",
    "dateFrom = '2025-07-30T00:00:00.000Z'\n",
    "dateTo = '2025-07-31T10:00:00.000Z'\n",
    "row_limit=20\n",
    "size_limit=20\n",
    "output_format=\"Object\"\n",
    "data_dir = 'data/realtime'\n",
    "\n",
    "data = fetch_onc_raw_data(device_code, dateFrom, dateTo,\n",
    "                   output_format, onc_api_token, data_dir, logging)\n"
   ]
  }
 ],
 "metadata": {
  "kernelspec": {
   "display_name": "obspy2",
   "language": "python",
   "name": "python3"
  },
  "language_info": {
   "codemirror_mode": {
    "name": "ipython",
    "version": 3
   },
   "file_extension": ".py",
   "mimetype": "text/x-python",
   "name": "python",
   "nbconvert_exporter": "python",
   "pygments_lexer": "ipython3",
   "version": "3.11.6"
  }
 },
 "nbformat": 4,
 "nbformat_minor": 5
}
